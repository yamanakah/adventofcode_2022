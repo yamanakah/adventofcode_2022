{
 "cells": [
  {
   "cell_type": "markdown",
   "metadata": {},
   "source": [
    "Santa's reindeer typically eat regular reindeer food, but they need a lot of magical energy to deliver presents on Christmas. For that, their favorite snack is a special type of star fruit that only grows deep in the jungle. The Elves have brought you on their annual expedition to the grove where the fruit grows.\n",
    "\n",
    "To supply enough magical energy, the expedition needs to retrieve a minimum of fifty stars by December 25th. Although the Elves assure you that the grove has plenty of fruit, you decide to grab any fruit you see along the way, just in case.\n",
    "\n",
    "Collect stars by solving puzzles. Two puzzles will be made available on each day in the Advent calendar; the second puzzle is unlocked when you complete the first. Each puzzle grants one star. Good luck!"
   ]
  },
  {
   "cell_type": "markdown",
   "metadata": {},
   "source": [
    "## --- Day 1: Calorie Counting ---"
   ]
  },
  {
   "cell_type": "markdown",
   "metadata": {},
   "source": [
    "### Puzzle 1.1"
   ]
  },
  {
   "cell_type": "markdown",
   "metadata": {},
   "source": [
    "The jungle must be too overgrown and difficult to navigate in vehicles or access from the air; the Elves' expedition traditionally goes on foot. As your boats approach land, the Elves begin taking inventory of their supplies. One important consideration is food - in particular, the number of Calories each Elf is carrying (your puzzle input).\n",
    "\n",
    "The Elves take turns writing down the number of Calories contained by the various meals, snacks, rations, etc. that they've brought with them, one item per line. Each Elf separates their own inventory from the previous Elf's inventory (if any) by a blank line.\n",
    "\n",
    "For example, suppose the Elves finish writing their items' Calories and end up with the following list:\n",
    "\n",
    "```\n",
    "1000\n",
    "2000\n",
    "3000\n",
    "\n",
    "4000\n",
    "\n",
    "5000\n",
    "6000\n",
    "\n",
    "7000\n",
    "8000\n",
    "9000\n",
    "\n",
    "10000\n",
    "```\n",
    "This list represents the Calories of the food carried by five Elves:\n",
    "\n",
    "The first Elf is carrying food with 1000, 2000, and 3000 Calories, a total of 6000 Calories.\n",
    "The second Elf is carrying one food item with 4000 Calories.\n",
    "The third Elf is carrying food with 5000 and 6000 Calories, a total of 11000 Calories.\n",
    "The fourth Elf is carrying food with 7000, 8000, and 9000 Calories, a total of 24000 Calories.\n",
    "The fifth Elf is carrying one food item with 10000 Calories.\n",
    "In case the Elves get hungry and need extra snacks, they need to know which Elf to ask: they'd like to know how many Calories are being carried by the Elf carrying the most Calories. In the example above, this is 24000 (carried by the fourth Elf).\n",
    "\n",
    "Find the Elf carrying the most Calories. How many total Calories is that Elf carrying?"
   ]
  },
  {
   "cell_type": "markdown",
   "metadata": {},
   "source": [
    "### Solution 1.1"
   ]
  },
  {
   "cell_type": "code",
   "execution_count": 21,
   "metadata": {},
   "outputs": [
    {
     "name": "stdout",
     "output_type": "stream",
     "text": [
      "Out of 252 elves, elf number 60 is carrying the most calories.\n",
      "They are carrying 71502 calories.\n"
     ]
    }
   ],
   "source": [
    "f = open('input_1_1.txt','r')\n",
    "count = 0\n",
    "elf_num = 0\n",
    "current_cal = 0\n",
    "max_cal = 0\n",
    "\n",
    "with open('input_1_1.txt','r') as f:\n",
    "    for l in f:\n",
    "        if l == '\\n':\n",
    "            count += 1\n",
    "            if max_cal < current_cal:\n",
    "                elf_num = count\n",
    "            max_cal = max(max_cal, current_cal)\n",
    "            current_cal = 0\n",
    "        else:\n",
    "            current_cal += int(l)\n",
    "\n",
    "print('Out of', count, 'elves, elf number', elf_num, 'is carrying the most calories.')\n",
    "print('They are carrying', max_cal, 'calories.')"
   ]
  },
  {
   "cell_type": "markdown",
   "metadata": {},
   "source": [
    "### Puzzle 1.2"
   ]
  },
  {
   "cell_type": "markdown",
   "metadata": {},
   "source": [
    "By the time you calculate the answer to the Elves' question, they've already realized that the Elf carrying the most Calories of food might eventually run out of snacks.\n",
    "\n",
    "To avoid this unacceptable situation, the Elves would instead like to know the total Calories carried by the top three Elves carrying the most Calories. That way, even if one of those Elves runs out of snacks, they still have two backups.\n",
    "\n",
    "In the example above, the top three Elves are the fourth Elf (with 24000 Calories), then the third Elf (with 11000 Calories), then the fifth Elf (with 10000 Calories). The sum of the Calories carried by these three elves is 45000.\n",
    "\n",
    "Find the top three Elves carrying the most Calories. How many Calories are those Elves carrying in total?"
   ]
  },
  {
   "cell_type": "code",
   "execution_count": 15,
   "metadata": {},
   "outputs": [],
   "source": [
    "f = open('input_1_1.txt', 'r')\n",
    "current_cal = 0\n",
    "cal_list = []\n",
    "\n",
    "# get list of all calories carried by elves\n",
    "with open('input_1_1.txt', 'r') as f:\n",
    "    for l in f:\n",
    "        if l == '\\n':\n",
    "            count += 1\n",
    "            cal_list.append(current_cal)\n",
    "            current_cal = 0\n",
    "        else:\n",
    "            current_cal += int(l)"
   ]
  },
  {
   "cell_type": "code",
   "execution_count": 25,
   "metadata": {},
   "outputs": [
    {
     "name": "stdout",
     "output_type": "stream",
     "text": [
      "Elves [60, 137, 4] are carrying the most calories.\n",
      "They are carrying [71502, 68977, 67712] calories respectively and 208191 calories in total\n"
     ]
    }
   ],
   "source": [
    "# select the top 3 elves\n",
    "n = 3\n",
    "top_elves = []\n",
    "top_cal = []\n",
    "\n",
    "import copy\n",
    "temp_list = copy.deepcopy(cal_list)\n",
    "for i in range(n):\n",
    "    max_cal = max(temp_list)\n",
    "    elf_num = temp_list.index(max_cal)\n",
    "    top_elves.append(elf_num + 1)\n",
    "    top_cal.append(max_cal)\n",
    "    temp_list[elf_num] = 0\n",
    "\n",
    "total_top_cal = sum(top_cal)\n",
    "\n",
    "print('Elves', top_elves, 'are carrying the most calories.')\n",
    "print('They are carrying', top_cal, 'calories respectively and', total_top_cal,\n",
    "      'calories in total')\n"
   ]
  }
 ],
 "metadata": {
  "kernelspec": {
   "display_name": "Python 3.8.11 ('base')",
   "language": "python",
   "name": "python3"
  },
  "language_info": {
   "codemirror_mode": {
    "name": "ipython",
    "version": 3
   },
   "file_extension": ".py",
   "mimetype": "text/x-python",
   "name": "python",
   "nbconvert_exporter": "python",
   "pygments_lexer": "ipython3",
   "version": "3.8.11"
  },
  "orig_nbformat": 4,
  "vscode": {
   "interpreter": {
    "hash": "40d3a090f54c6569ab1632332b64b2c03c39dcf918b08424e98f38b5ae0af88f"
   }
  }
 },
 "nbformat": 4,
 "nbformat_minor": 2
}
